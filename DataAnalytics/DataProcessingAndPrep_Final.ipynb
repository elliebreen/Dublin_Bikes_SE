{
 "cells": [
  {
   "cell_type": "markdown",
   "id": "danish-television",
   "metadata": {},
   "source": [
    "# Machine Learning Model for Available Bikes and Bikes Stands"
   ]
  },
  {
   "cell_type": "markdown",
   "id": "missing-pittsburgh",
   "metadata": {},
   "source": [
    "## Contents"
   ]
  },
  {
   "cell_type": "markdown",
   "id": "stuffed-vienna",
   "metadata": {},
   "source": [
    "* [1. Data Processing](#data_pros) \n",
    ".\n",
    ".\n",
    ".\n"
   ]
  },
  {
   "cell_type": "code",
   "execution_count": 1,
   "id": "durable-shoot",
   "metadata": {},
   "outputs": [],
   "source": [
    "#import modules needed\n",
    "import pandas as pd\n",
    "import numpy as np\n",
    "from datetime import datetime, timedelta, date\n",
    "from sklearn import preprocessing\n",
    "from sklearn.ensemble import RandomForestClassifier\n",
    "from sklearn.model_selection import train_test_split\n",
    "from sklearn.model_selection import cross_val_score\n",
    "from sklearn import metrics\n",
    "from sklearn.model_selection import GridSearchCV\n",
    "# hide ipykernel warnings \n",
    "import warnings\n",
    "warnings.filterwarnings('ignore')\n",
    "import sqlalchemy as sqla\n",
    "from sqlalchemy import create_engine"
   ]
  },
  {
   "cell_type": "markdown",
   "id": "miniature-litigation",
   "metadata": {},
   "source": [
    "## 1. Data Processing <a class=\"anchor\" id=\"data_pros\"></a>"
   ]
  },
  {
   "cell_type": "code",
   "execution_count": 2,
   "id": "japanese-newark",
   "metadata": {},
   "outputs": [],
   "source": [
    "URI=\"dublinbikes.cjriubtfwhtu.us-east-1.rds.amazonaws.com\"\n",
    "PORT=\"3306\"\n",
    "DB=\"dbbikes\"\n",
    "USER=\"ellie\"\n",
    "PASSWORD=\"1994Pamoelda\""
   ]
  },
  {
   "cell_type": "code",
   "execution_count": 3,
   "id": "another-incentive",
   "metadata": {},
   "outputs": [],
   "source": [
    "engine = create_engine(\"mysql+mysqldb://{}:{}@{}:{}/{}\".format(USER, PASSWORD, URI, PORT, DB), echo = True)"
   ]
  },
  {
   "cell_type": "markdown",
   "id": "extra-patrick",
   "metadata": {},
   "source": [
    "#### Read in the tables"
   ]
  },
  {
   "cell_type": "code",
   "execution_count": 6,
   "id": "elementary-position",
   "metadata": {},
   "outputs": [],
   "source": [
    "sql1=\"\"\"\n",
    "Select description, dt, temp,temp_min, temp_max, humidity From dbbikes.weather \n",
    "\"\"\""
   ]
  },
  {
   "cell_type": "code",
   "execution_count": 7,
   "id": "operational-marsh",
   "metadata": {},
   "outputs": [],
   "source": [
    "sql2=\"\"\"\n",
    "Select number, last_update, available_bikes_stands,available_bikes From dbbikes.availability \n",
    "\"\"\""
   ]
  },
  {
   "cell_type": "code",
   "execution_count": 8,
   "id": "several-recall",
   "metadata": {},
   "outputs": [
    {
     "name": "stdout",
     "output_type": "stream",
     "text": [
      "2021-04-07 14:30:20,934 INFO sqlalchemy.engine.base.Engine SHOW VARIABLES LIKE 'sql_mode'\n",
      "2021-04-07 14:30:20,938 INFO sqlalchemy.engine.base.Engine ()\n",
      "2021-04-07 14:30:21,051 INFO sqlalchemy.engine.base.Engine SHOW VARIABLES LIKE 'lower_case_table_names'\n",
      "2021-04-07 14:30:21,052 INFO sqlalchemy.engine.base.Engine ()\n",
      "2021-04-07 14:30:21,284 INFO sqlalchemy.engine.base.Engine SELECT DATABASE()\n",
      "2021-04-07 14:30:21,286 INFO sqlalchemy.engine.base.Engine ()\n",
      "2021-04-07 14:30:21,594 INFO sqlalchemy.engine.base.Engine show collation where `Charset` = 'utf8mb4' and `Collation` = 'utf8mb4_bin'\n",
      "2021-04-07 14:30:21,595 INFO sqlalchemy.engine.base.Engine ()\n",
      "2021-04-07 14:30:21,714 INFO sqlalchemy.engine.base.Engine SELECT CAST('test plain returns' AS CHAR(60)) AS anon_1\n",
      "2021-04-07 14:30:21,715 INFO sqlalchemy.engine.base.Engine ()\n",
      "2021-04-07 14:30:21,825 INFO sqlalchemy.engine.base.Engine SELECT CAST('test unicode returns' AS CHAR(60)) AS anon_1\n",
      "2021-04-07 14:30:21,826 INFO sqlalchemy.engine.base.Engine ()\n",
      "2021-04-07 14:30:21,936 INFO sqlalchemy.engine.base.Engine SELECT CAST('test collated returns' AS CHAR CHARACTER SET utf8mb4) COLLATE utf8mb4_bin AS anon_1\n",
      "2021-04-07 14:30:21,937 INFO sqlalchemy.engine.base.Engine ()\n",
      "2021-04-07 14:30:22,263 INFO sqlalchemy.engine.base.OptionEngine \n",
      "Select description, dt, temp,temp_min, temp_max, humidity From dbbikes.weather \n",
      "\n",
      "2021-04-07 14:30:22,264 INFO sqlalchemy.engine.base.OptionEngine ()\n"
     ]
    }
   ],
   "source": [
    "dfweather=pd.read_sql_query(sql1, engine)"
   ]
  },
  {
   "cell_type": "code",
   "execution_count": 9,
   "id": "macro-burlington",
   "metadata": {},
   "outputs": [
    {
     "name": "stdout",
     "output_type": "stream",
     "text": [
      "2021-04-07 14:30:22,928 INFO sqlalchemy.engine.base.OptionEngine \n",
      "Select number, last_update, available_bikes_stands,available_bikes From dbbikes.availability \n",
      "\n",
      "2021-04-07 14:30:22,929 INFO sqlalchemy.engine.base.OptionEngine ()\n"
     ]
    }
   ],
   "source": [
    "dfavailability=pd.read_sql_query(sql2, engine)"
   ]
  },
  {
   "cell_type": "markdown",
   "id": "three-acquisition",
   "metadata": {},
   "source": [
    "#### Check the number of columns and rows in the tables"
   ]
  },
  {
   "cell_type": "code",
   "execution_count": 10,
   "id": "wrong-steal",
   "metadata": {},
   "outputs": [
    {
     "data": {
      "text/plain": [
       "(3447, 6)"
      ]
     },
     "execution_count": 10,
     "metadata": {},
     "output_type": "execute_result"
    }
   ],
   "source": [
    "dfweather.shape"
   ]
  },
  {
   "cell_type": "code",
   "execution_count": 11,
   "id": "rental-bernard",
   "metadata": {},
   "outputs": [
    {
     "data": {
      "text/plain": [
       "(691948, 4)"
      ]
     },
     "execution_count": 11,
     "metadata": {},
     "output_type": "execute_result"
    }
   ],
   "source": [
    "dfavailability.shape"
   ]
  },
  {
   "cell_type": "markdown",
   "id": "indonesian-retreat",
   "metadata": {},
   "source": [
    "#### View the tables"
   ]
  },
  {
   "cell_type": "code",
   "execution_count": 12,
   "id": "happy-throat",
   "metadata": {
    "scrolled": true
   },
   "outputs": [
    {
     "data": {
      "text/html": [
       "<div>\n",
       "<style scoped>\n",
       "    .dataframe tbody tr th:only-of-type {\n",
       "        vertical-align: middle;\n",
       "    }\n",
       "\n",
       "    .dataframe tbody tr th {\n",
       "        vertical-align: top;\n",
       "    }\n",
       "\n",
       "    .dataframe thead th {\n",
       "        text-align: right;\n",
       "    }\n",
       "</style>\n",
       "<table border=\"1\" class=\"dataframe\">\n",
       "  <thead>\n",
       "    <tr style=\"text-align: right;\">\n",
       "      <th></th>\n",
       "      <th>description</th>\n",
       "      <th>dt</th>\n",
       "      <th>temp</th>\n",
       "      <th>temp_min</th>\n",
       "      <th>temp_max</th>\n",
       "      <th>humidity</th>\n",
       "    </tr>\n",
       "  </thead>\n",
       "  <tbody>\n",
       "    <tr>\n",
       "      <th>0</th>\n",
       "      <td>few clouds</td>\n",
       "      <td>2021-03-05 21:23:28</td>\n",
       "      <td>-1</td>\n",
       "      <td>-3</td>\n",
       "      <td>3</td>\n",
       "      <td>86</td>\n",
       "    </tr>\n",
       "    <tr>\n",
       "      <th>1</th>\n",
       "      <td>few clouds</td>\n",
       "      <td>2021-03-05 21:39:47</td>\n",
       "      <td>-1</td>\n",
       "      <td>-3</td>\n",
       "      <td>3</td>\n",
       "      <td>86</td>\n",
       "    </tr>\n",
       "    <tr>\n",
       "      <th>2</th>\n",
       "      <td>few clouds</td>\n",
       "      <td>2021-03-05 21:57:39</td>\n",
       "      <td>-1</td>\n",
       "      <td>-3</td>\n",
       "      <td>3</td>\n",
       "      <td>86</td>\n",
       "    </tr>\n",
       "    <tr>\n",
       "      <th>3</th>\n",
       "      <td>few clouds</td>\n",
       "      <td>2021-03-05 22:10:25</td>\n",
       "      <td>-1</td>\n",
       "      <td>-3</td>\n",
       "      <td>-1</td>\n",
       "      <td>86</td>\n",
       "    </tr>\n",
       "    <tr>\n",
       "      <th>4</th>\n",
       "      <td>scattered clouds</td>\n",
       "      <td>2021-03-05 22:27:23</td>\n",
       "      <td>-1</td>\n",
       "      <td>-3</td>\n",
       "      <td>-1</td>\n",
       "      <td>86</td>\n",
       "    </tr>\n",
       "  </tbody>\n",
       "</table>\n",
       "</div>"
      ],
      "text/plain": [
       "        description                  dt  temp  temp_min  temp_max  humidity\n",
       "0        few clouds 2021-03-05 21:23:28    -1        -3         3        86\n",
       "1        few clouds 2021-03-05 21:39:47    -1        -3         3        86\n",
       "2        few clouds 2021-03-05 21:57:39    -1        -3         3        86\n",
       "3        few clouds 2021-03-05 22:10:25    -1        -3        -1        86\n",
       "4  scattered clouds 2021-03-05 22:27:23    -1        -3        -1        86"
      ]
     },
     "execution_count": 12,
     "metadata": {},
     "output_type": "execute_result"
    }
   ],
   "source": [
    "dfweather.head()"
   ]
  },
  {
   "cell_type": "code",
   "execution_count": 13,
   "id": "military-nitrogen",
   "metadata": {
    "scrolled": false
   },
   "outputs": [
    {
     "data": {
      "text/html": [
       "<div>\n",
       "<style scoped>\n",
       "    .dataframe tbody tr th:only-of-type {\n",
       "        vertical-align: middle;\n",
       "    }\n",
       "\n",
       "    .dataframe tbody tr th {\n",
       "        vertical-align: top;\n",
       "    }\n",
       "\n",
       "    .dataframe thead th {\n",
       "        text-align: right;\n",
       "    }\n",
       "</style>\n",
       "<table border=\"1\" class=\"dataframe\">\n",
       "  <thead>\n",
       "    <tr style=\"text-align: right;\">\n",
       "      <th></th>\n",
       "      <th>number</th>\n",
       "      <th>last_update</th>\n",
       "      <th>available_bikes_stands</th>\n",
       "      <th>available_bikes</th>\n",
       "    </tr>\n",
       "  </thead>\n",
       "  <tbody>\n",
       "    <tr>\n",
       "      <th>0</th>\n",
       "      <td>2</td>\n",
       "      <td>2021-02-25 20:06:43</td>\n",
       "      <td>9</td>\n",
       "      <td>11</td>\n",
       "    </tr>\n",
       "    <tr>\n",
       "      <th>1</th>\n",
       "      <td>2</td>\n",
       "      <td>2021-02-25 20:16:51</td>\n",
       "      <td>9</td>\n",
       "      <td>11</td>\n",
       "    </tr>\n",
       "    <tr>\n",
       "      <th>2</th>\n",
       "      <td>2</td>\n",
       "      <td>2021-02-25 20:26:59</td>\n",
       "      <td>9</td>\n",
       "      <td>11</td>\n",
       "    </tr>\n",
       "    <tr>\n",
       "      <th>3</th>\n",
       "      <td>2</td>\n",
       "      <td>2021-02-25 20:37:07</td>\n",
       "      <td>9</td>\n",
       "      <td>11</td>\n",
       "    </tr>\n",
       "    <tr>\n",
       "      <th>4</th>\n",
       "      <td>2</td>\n",
       "      <td>2021-02-25 20:47:17</td>\n",
       "      <td>9</td>\n",
       "      <td>11</td>\n",
       "    </tr>\n",
       "  </tbody>\n",
       "</table>\n",
       "</div>"
      ],
      "text/plain": [
       "   number         last_update  available_bikes_stands  available_bikes\n",
       "0       2 2021-02-25 20:06:43                       9               11\n",
       "1       2 2021-02-25 20:16:51                       9               11\n",
       "2       2 2021-02-25 20:26:59                       9               11\n",
       "3       2 2021-02-25 20:37:07                       9               11\n",
       "4       2 2021-02-25 20:47:17                       9               11"
      ]
     },
     "execution_count": 13,
     "metadata": {},
     "output_type": "execute_result"
    }
   ],
   "source": [
    "dfavailability.head()"
   ]
  },
  {
   "cell_type": "code",
   "execution_count": 14,
   "id": "intermediate-interval",
   "metadata": {},
   "outputs": [],
   "source": [
    "dfavailability.rename(columns = {'number':'StationNumber'}, inplace = True)"
   ]
  },
  {
   "cell_type": "markdown",
   "id": "negative-shoulder",
   "metadata": {},
   "source": [
    "#### Check Feature types and change into appropriate types if needed "
   ]
  },
  {
   "cell_type": "code",
   "execution_count": 15,
   "id": "sixth-happiness",
   "metadata": {
    "scrolled": true
   },
   "outputs": [
    {
     "data": {
      "text/plain": [
       "StationNumber                      int64\n",
       "last_update               datetime64[ns]\n",
       "available_bikes_stands             int64\n",
       "available_bikes                    int64\n",
       "dtype: object"
      ]
     },
     "execution_count": 15,
     "metadata": {},
     "output_type": "execute_result"
    }
   ],
   "source": [
    "dfavailability.dtypes"
   ]
  },
  {
   "cell_type": "code",
   "execution_count": 16,
   "id": "nuclear-island",
   "metadata": {},
   "outputs": [],
   "source": [
    "dfavailability['last_update']=dfavailability['last_update'].apply(pd.to_datetime, format='%Y/%m/%d')"
   ]
  },
  {
   "cell_type": "code",
   "execution_count": 17,
   "id": "perfect-simulation",
   "metadata": {},
   "outputs": [],
   "source": [
    "# dfavailability['Day']=dfavailability['last_update'].dt.day_name()"
   ]
  },
  {
   "cell_type": "code",
   "execution_count": 18,
   "id": "heated-athletics",
   "metadata": {},
   "outputs": [],
   "source": [
    "# dfavailability.Day.unique()"
   ]
  },
  {
   "cell_type": "code",
   "execution_count": 19,
   "id": "afraid-premium",
   "metadata": {
    "scrolled": false
   },
   "outputs": [
    {
     "data": {
      "text/plain": [
       "StationNumber                110\n",
       "last_update               545321\n",
       "available_bikes_stands        41\n",
       "available_bikes               41\n",
       "dtype: int64"
      ]
     },
     "execution_count": 19,
     "metadata": {},
     "output_type": "execute_result"
    }
   ],
   "source": [
    "dfavailability.nunique()"
   ]
  },
  {
   "cell_type": "code",
   "execution_count": 20,
   "id": "opposite-refund",
   "metadata": {},
   "outputs": [
    {
     "data": {
      "text/plain": [
       "StationNumber                      int64\n",
       "last_update               datetime64[ns]\n",
       "available_bikes_stands             int64\n",
       "available_bikes                    int64\n",
       "dtype: object"
      ]
     },
     "execution_count": 20,
     "metadata": {},
     "output_type": "execute_result"
    }
   ],
   "source": [
    "dfavailability.dtypes"
   ]
  },
  {
   "cell_type": "code",
   "execution_count": 21,
   "id": "rapid-screening",
   "metadata": {},
   "outputs": [
    {
     "data": {
      "text/plain": [
       "description            object\n",
       "dt             datetime64[ns]\n",
       "temp                    int64\n",
       "temp_min                int64\n",
       "temp_max                int64\n",
       "humidity                int64\n",
       "dtype: object"
      ]
     },
     "execution_count": 21,
     "metadata": {},
     "output_type": "execute_result"
    }
   ],
   "source": [
    "dfweather.dtypes"
   ]
  },
  {
   "cell_type": "code",
   "execution_count": 22,
   "id": "stone-maryland",
   "metadata": {},
   "outputs": [],
   "source": [
    "dfweather['dt']=dfweather['dt'].apply(pd.to_datetime, format='%Y/%m/%d')\n"
   ]
  },
  {
   "cell_type": "code",
   "execution_count": 23,
   "id": "necessary-trick",
   "metadata": {},
   "outputs": [],
   "source": [
    "# dfweather['Day']=dfweather['dt'].dt.day_name()"
   ]
  },
  {
   "cell_type": "code",
   "execution_count": 24,
   "id": "frequent-concrete",
   "metadata": {},
   "outputs": [],
   "source": [
    "# dfweather.Day.unique()"
   ]
  },
  {
   "cell_type": "code",
   "execution_count": 25,
   "id": "respiratory-bulletin",
   "metadata": {
    "scrolled": false
   },
   "outputs": [
    {
     "data": {
      "text/plain": [
       "description      11\n",
       "dt             3447\n",
       "temp             19\n",
       "temp_min         20\n",
       "temp_max         21\n",
       "humidity         38\n",
       "dtype: int64"
      ]
     },
     "execution_count": 25,
     "metadata": {},
     "output_type": "execute_result"
    }
   ],
   "source": [
    "dfweather.nunique()"
   ]
  },
  {
   "cell_type": "code",
   "execution_count": 26,
   "id": "remarkable-theorem",
   "metadata": {},
   "outputs": [],
   "source": [
    "dfweather['description'] = dfweather['description'].astype('category')"
   ]
  },
  {
   "cell_type": "code",
   "execution_count": 27,
   "id": "judicial-insert",
   "metadata": {},
   "outputs": [],
   "source": [
    "# #do not need icon for model \n",
    "# dfweather =dfweather.drop(['icon'], axis=1)"
   ]
  },
  {
   "cell_type": "code",
   "execution_count": 28,
   "id": "stainless-facial",
   "metadata": {},
   "outputs": [
    {
     "data": {
      "text/plain": [
       "description          category\n",
       "dt             datetime64[ns]\n",
       "temp                    int64\n",
       "temp_min                int64\n",
       "temp_max                int64\n",
       "humidity                int64\n",
       "dtype: object"
      ]
     },
     "execution_count": 28,
     "metadata": {},
     "output_type": "execute_result"
    }
   ],
   "source": [
    "dfweather.dtypes"
   ]
  },
  {
   "cell_type": "markdown",
   "id": "transparent-inspector",
   "metadata": {},
   "source": [
    "#### Check for Missing Data \n",
    "-Result: None"
   ]
  },
  {
   "cell_type": "code",
   "execution_count": 29,
   "id": "intimate-rebel",
   "metadata": {
    "scrolled": true
   },
   "outputs": [
    {
     "data": {
      "text/plain": [
       "description    0.0\n",
       "dt             0.0\n",
       "temp           0.0\n",
       "temp_min       0.0\n",
       "temp_max       0.0\n",
       "humidity       0.0\n",
       "dtype: float64"
      ]
     },
     "execution_count": 29,
     "metadata": {},
     "output_type": "execute_result"
    }
   ],
   "source": [
    "dfweather.isnull().sum().sort_values(ascending=False)/len(dfweather)*100"
   ]
  },
  {
   "cell_type": "code",
   "execution_count": 30,
   "id": "congressional-granny",
   "metadata": {},
   "outputs": [
    {
     "data": {
      "text/plain": [
       "StationNumber             0.0\n",
       "last_update               0.0\n",
       "available_bikes_stands    0.0\n",
       "available_bikes           0.0\n",
       "dtype: float64"
      ]
     },
     "execution_count": 30,
     "metadata": {},
     "output_type": "execute_result"
    }
   ],
   "source": [
    "dfavailability.isnull().sum().sort_values(ascending=False)/len(dfavailability)*100"
   ]
  },
  {
   "cell_type": "markdown",
   "id": "unique-timber",
   "metadata": {},
   "source": [
    "#### Check for Duplicate Columns/Rows\n",
    "\n",
    "-Result: None, will further evaluate below"
   ]
  },
  {
   "cell_type": "code",
   "execution_count": 31,
   "id": "wicked-disposition",
   "metadata": {},
   "outputs": [
    {
     "name": "stdout",
     "output_type": "stream",
     "text": [
      "Number of duplicate (excluding first) rows in the table is:  0\n",
      "Number of duplicate rows (including first) in the table is: 0\n"
     ]
    }
   ],
   "source": [
    "#Print the number of duplicates, without the original rows that were duplicated\n",
    "print('Number of duplicate (excluding first) rows in the table is: ', dfweather.duplicated().sum())\n",
    "\n",
    "# Check for duplicate rows. \n",
    "# Use \"keep=False\" to mark all duplicates as true, including the original rows that were duplicated.\n",
    "print('Number of duplicate rows (including first) in the table is:', dfweather[dfweather.duplicated(keep=False)].shape[0])"
   ]
  },
  {
   "cell_type": "code",
   "execution_count": 32,
   "id": "ruled-meter",
   "metadata": {},
   "outputs": [
    {
     "name": "stdout",
     "output_type": "stream",
     "text": [
      "Number of duplicate (excluding first) rows in the table is:  0\n",
      "Number of duplicate rows (including first) in the table is: 0\n"
     ]
    }
   ],
   "source": [
    "#Print the number of duplicates, without the original rows that were duplicated\n",
    "print('Number of duplicate (excluding first) rows in the table is: ', dfavailability.duplicated().sum())\n",
    "\n",
    "# Check for duplicate rows. \n",
    "# Use \"keep=False\" to mark all duplicates as true, including the original rows that were duplicated.\n",
    "print('Number of duplicate rows (including first) in the table is:', dfavailability[dfavailability.duplicated(keep=False)].shape[0])"
   ]
  },
  {
   "cell_type": "markdown",
   "id": "previous-payday",
   "metadata": {},
   "source": [
    "### Descriptive Stats for Both tables - checking for constant columns\n",
    "\n",
    "- Results: std >0 - no constant columns"
   ]
  },
  {
   "cell_type": "code",
   "execution_count": 33,
   "id": "answering-moses",
   "metadata": {
    "scrolled": false
   },
   "outputs": [
    {
     "data": {
      "text/html": [
       "<div>\n",
       "<style scoped>\n",
       "    .dataframe tbody tr th:only-of-type {\n",
       "        vertical-align: middle;\n",
       "    }\n",
       "\n",
       "    .dataframe tbody tr th {\n",
       "        vertical-align: top;\n",
       "    }\n",
       "\n",
       "    .dataframe thead th {\n",
       "        text-align: right;\n",
       "    }\n",
       "</style>\n",
       "<table border=\"1\" class=\"dataframe\">\n",
       "  <thead>\n",
       "    <tr style=\"text-align: right;\">\n",
       "      <th></th>\n",
       "      <th>count</th>\n",
       "      <th>mean</th>\n",
       "      <th>std</th>\n",
       "      <th>min</th>\n",
       "      <th>25%</th>\n",
       "      <th>50%</th>\n",
       "      <th>75%</th>\n",
       "      <th>max</th>\n",
       "    </tr>\n",
       "  </thead>\n",
       "  <tbody>\n",
       "    <tr>\n",
       "      <th>StationNumber</th>\n",
       "      <td>691948.0</td>\n",
       "      <td>60.178021</td>\n",
       "      <td>35.017244</td>\n",
       "      <td>2.0</td>\n",
       "      <td>31.0</td>\n",
       "      <td>61.0</td>\n",
       "      <td>90.0</td>\n",
       "      <td>507.0</td>\n",
       "    </tr>\n",
       "    <tr>\n",
       "      <th>available_bikes_stands</th>\n",
       "      <td>691948.0</td>\n",
       "      <td>21.240848</td>\n",
       "      <td>9.303408</td>\n",
       "      <td>0.0</td>\n",
       "      <td>14.0</td>\n",
       "      <td>21.0</td>\n",
       "      <td>28.0</td>\n",
       "      <td>40.0</td>\n",
       "    </tr>\n",
       "    <tr>\n",
       "      <th>available_bikes</th>\n",
       "      <td>691948.0</td>\n",
       "      <td>10.739041</td>\n",
       "      <td>7.144609</td>\n",
       "      <td>0.0</td>\n",
       "      <td>5.0</td>\n",
       "      <td>10.0</td>\n",
       "      <td>15.0</td>\n",
       "      <td>40.0</td>\n",
       "    </tr>\n",
       "  </tbody>\n",
       "</table>\n",
       "</div>"
      ],
      "text/plain": [
       "                           count       mean        std  min   25%   50%   75%  \\\n",
       "StationNumber           691948.0  60.178021  35.017244  2.0  31.0  61.0  90.0   \n",
       "available_bikes_stands  691948.0  21.240848   9.303408  0.0  14.0  21.0  28.0   \n",
       "available_bikes         691948.0  10.739041   7.144609  0.0   5.0  10.0  15.0   \n",
       "\n",
       "                          max  \n",
       "StationNumber           507.0  \n",
       "available_bikes_stands   40.0  \n",
       "available_bikes          40.0  "
      ]
     },
     "execution_count": 33,
     "metadata": {},
     "output_type": "execute_result"
    }
   ],
   "source": [
    "dfavailability.describe().T"
   ]
  },
  {
   "cell_type": "code",
   "execution_count": 34,
   "id": "alpha-consent",
   "metadata": {},
   "outputs": [
    {
     "data": {
      "text/html": [
       "<div>\n",
       "<style scoped>\n",
       "    .dataframe tbody tr th:only-of-type {\n",
       "        vertical-align: middle;\n",
       "    }\n",
       "\n",
       "    .dataframe tbody tr th {\n",
       "        vertical-align: top;\n",
       "    }\n",
       "\n",
       "    .dataframe thead th {\n",
       "        text-align: right;\n",
       "    }\n",
       "</style>\n",
       "<table border=\"1\" class=\"dataframe\">\n",
       "  <thead>\n",
       "    <tr style=\"text-align: right;\">\n",
       "      <th></th>\n",
       "      <th>count</th>\n",
       "      <th>mean</th>\n",
       "      <th>std</th>\n",
       "      <th>min</th>\n",
       "      <th>25%</th>\n",
       "      <th>50%</th>\n",
       "      <th>75%</th>\n",
       "      <th>max</th>\n",
       "    </tr>\n",
       "  </thead>\n",
       "  <tbody>\n",
       "    <tr>\n",
       "      <th>temp</th>\n",
       "      <td>3447.0</td>\n",
       "      <td>7.617929</td>\n",
       "      <td>3.421782</td>\n",
       "      <td>-1.0</td>\n",
       "      <td>5.0</td>\n",
       "      <td>8.0</td>\n",
       "      <td>10.0</td>\n",
       "      <td>17.0</td>\n",
       "    </tr>\n",
       "    <tr>\n",
       "      <th>temp_min</th>\n",
       "      <td>3447.0</td>\n",
       "      <td>6.766173</td>\n",
       "      <td>3.568724</td>\n",
       "      <td>-3.0</td>\n",
       "      <td>4.0</td>\n",
       "      <td>7.0</td>\n",
       "      <td>9.0</td>\n",
       "      <td>16.0</td>\n",
       "    </tr>\n",
       "    <tr>\n",
       "      <th>temp_max</th>\n",
       "      <td>3447.0</td>\n",
       "      <td>8.465622</td>\n",
       "      <td>3.276912</td>\n",
       "      <td>-1.0</td>\n",
       "      <td>6.0</td>\n",
       "      <td>8.0</td>\n",
       "      <td>11.0</td>\n",
       "      <td>19.0</td>\n",
       "    </tr>\n",
       "    <tr>\n",
       "      <th>humidity</th>\n",
       "      <td>3447.0</td>\n",
       "      <td>79.528576</td>\n",
       "      <td>11.229998</td>\n",
       "      <td>39.0</td>\n",
       "      <td>71.0</td>\n",
       "      <td>81.0</td>\n",
       "      <td>87.0</td>\n",
       "      <td>100.0</td>\n",
       "    </tr>\n",
       "  </tbody>\n",
       "</table>\n",
       "</div>"
      ],
      "text/plain": [
       "           count       mean        std   min   25%   50%   75%    max\n",
       "temp      3447.0   7.617929   3.421782  -1.0   5.0   8.0  10.0   17.0\n",
       "temp_min  3447.0   6.766173   3.568724  -3.0   4.0   7.0   9.0   16.0\n",
       "temp_max  3447.0   8.465622   3.276912  -1.0   6.0   8.0  11.0   19.0\n",
       "humidity  3447.0  79.528576  11.229998  39.0  71.0  81.0  87.0  100.0"
      ]
     },
     "execution_count": 34,
     "metadata": {},
     "output_type": "execute_result"
    }
   ],
   "source": [
    "dfweather.describe().T"
   ]
  },
  {
   "cell_type": "markdown",
   "id": "educated-administration",
   "metadata": {},
   "source": [
    "#### Create new intervals columns which converts the datetime colums into 30 min intervals"
   ]
  },
  {
   "cell_type": "code",
   "execution_count": 35,
   "id": "missing-playing",
   "metadata": {},
   "outputs": [
    {
     "data": {
      "text/html": [
       "<div>\n",
       "<style scoped>\n",
       "    .dataframe tbody tr th:only-of-type {\n",
       "        vertical-align: middle;\n",
       "    }\n",
       "\n",
       "    .dataframe tbody tr th {\n",
       "        vertical-align: top;\n",
       "    }\n",
       "\n",
       "    .dataframe thead th {\n",
       "        text-align: right;\n",
       "    }\n",
       "</style>\n",
       "<table border=\"1\" class=\"dataframe\">\n",
       "  <thead>\n",
       "    <tr style=\"text-align: right;\">\n",
       "      <th></th>\n",
       "      <th>StationNumber</th>\n",
       "      <th>last_update</th>\n",
       "      <th>available_bikes_stands</th>\n",
       "      <th>available_bikes</th>\n",
       "    </tr>\n",
       "  </thead>\n",
       "  <tbody>\n",
       "    <tr>\n",
       "      <th>0</th>\n",
       "      <td>2</td>\n",
       "      <td>2021-02-25 20:06:43</td>\n",
       "      <td>9</td>\n",
       "      <td>11</td>\n",
       "    </tr>\n",
       "    <tr>\n",
       "      <th>1</th>\n",
       "      <td>2</td>\n",
       "      <td>2021-02-25 20:16:51</td>\n",
       "      <td>9</td>\n",
       "      <td>11</td>\n",
       "    </tr>\n",
       "    <tr>\n",
       "      <th>2</th>\n",
       "      <td>2</td>\n",
       "      <td>2021-02-25 20:26:59</td>\n",
       "      <td>9</td>\n",
       "      <td>11</td>\n",
       "    </tr>\n",
       "    <tr>\n",
       "      <th>3</th>\n",
       "      <td>2</td>\n",
       "      <td>2021-02-25 20:37:07</td>\n",
       "      <td>9</td>\n",
       "      <td>11</td>\n",
       "    </tr>\n",
       "    <tr>\n",
       "      <th>4</th>\n",
       "      <td>2</td>\n",
       "      <td>2021-02-25 20:47:17</td>\n",
       "      <td>9</td>\n",
       "      <td>11</td>\n",
       "    </tr>\n",
       "  </tbody>\n",
       "</table>\n",
       "</div>"
      ],
      "text/plain": [
       "   StationNumber         last_update  available_bikes_stands  available_bikes\n",
       "0              2 2021-02-25 20:06:43                       9               11\n",
       "1              2 2021-02-25 20:16:51                       9               11\n",
       "2              2 2021-02-25 20:26:59                       9               11\n",
       "3              2 2021-02-25 20:37:07                       9               11\n",
       "4              2 2021-02-25 20:47:17                       9               11"
      ]
     },
     "execution_count": 35,
     "metadata": {},
     "output_type": "execute_result"
    }
   ],
   "source": [
    "dfavailability.head()"
   ]
  },
  {
   "cell_type": "code",
   "execution_count": 36,
   "id": "handled-conference",
   "metadata": {},
   "outputs": [],
   "source": [
    "dfavailability['intervals']=dfavailability['last_update'].dt.round('15min')"
   ]
  },
  {
   "cell_type": "code",
   "execution_count": 37,
   "id": "running-attention",
   "metadata": {},
   "outputs": [],
   "source": [
    "dfweather['intervals']=dfweather['dt'].dt.round('15min')"
   ]
  },
  {
   "cell_type": "code",
   "execution_count": 38,
   "id": "bibliographic-massachusetts",
   "metadata": {
    "scrolled": true
   },
   "outputs": [
    {
     "data": {
      "text/html": [
       "<div>\n",
       "<style scoped>\n",
       "    .dataframe tbody tr th:only-of-type {\n",
       "        vertical-align: middle;\n",
       "    }\n",
       "\n",
       "    .dataframe tbody tr th {\n",
       "        vertical-align: top;\n",
       "    }\n",
       "\n",
       "    .dataframe thead th {\n",
       "        text-align: right;\n",
       "    }\n",
       "</style>\n",
       "<table border=\"1\" class=\"dataframe\">\n",
       "  <thead>\n",
       "    <tr style=\"text-align: right;\">\n",
       "      <th></th>\n",
       "      <th>description</th>\n",
       "      <th>dt</th>\n",
       "      <th>temp</th>\n",
       "      <th>temp_min</th>\n",
       "      <th>temp_max</th>\n",
       "      <th>humidity</th>\n",
       "      <th>intervals</th>\n",
       "    </tr>\n",
       "  </thead>\n",
       "  <tbody>\n",
       "    <tr>\n",
       "      <th>0</th>\n",
       "      <td>few clouds</td>\n",
       "      <td>2021-03-05 21:23:28</td>\n",
       "      <td>-1</td>\n",
       "      <td>-3</td>\n",
       "      <td>3</td>\n",
       "      <td>86</td>\n",
       "      <td>2021-03-05 21:30:00</td>\n",
       "    </tr>\n",
       "    <tr>\n",
       "      <th>1</th>\n",
       "      <td>few clouds</td>\n",
       "      <td>2021-03-05 21:39:47</td>\n",
       "      <td>-1</td>\n",
       "      <td>-3</td>\n",
       "      <td>3</td>\n",
       "      <td>86</td>\n",
       "      <td>2021-03-05 21:45:00</td>\n",
       "    </tr>\n",
       "    <tr>\n",
       "      <th>2</th>\n",
       "      <td>few clouds</td>\n",
       "      <td>2021-03-05 21:57:39</td>\n",
       "      <td>-1</td>\n",
       "      <td>-3</td>\n",
       "      <td>3</td>\n",
       "      <td>86</td>\n",
       "      <td>2021-03-05 22:00:00</td>\n",
       "    </tr>\n",
       "    <tr>\n",
       "      <th>3</th>\n",
       "      <td>few clouds</td>\n",
       "      <td>2021-03-05 22:10:25</td>\n",
       "      <td>-1</td>\n",
       "      <td>-3</td>\n",
       "      <td>-1</td>\n",
       "      <td>86</td>\n",
       "      <td>2021-03-05 22:15:00</td>\n",
       "    </tr>\n",
       "    <tr>\n",
       "      <th>4</th>\n",
       "      <td>scattered clouds</td>\n",
       "      <td>2021-03-05 22:27:23</td>\n",
       "      <td>-1</td>\n",
       "      <td>-3</td>\n",
       "      <td>-1</td>\n",
       "      <td>86</td>\n",
       "      <td>2021-03-05 22:30:00</td>\n",
       "    </tr>\n",
       "  </tbody>\n",
       "</table>\n",
       "</div>"
      ],
      "text/plain": [
       "        description                  dt  temp  temp_min  temp_max  humidity  \\\n",
       "0        few clouds 2021-03-05 21:23:28    -1        -3         3        86   \n",
       "1        few clouds 2021-03-05 21:39:47    -1        -3         3        86   \n",
       "2        few clouds 2021-03-05 21:57:39    -1        -3         3        86   \n",
       "3        few clouds 2021-03-05 22:10:25    -1        -3        -1        86   \n",
       "4  scattered clouds 2021-03-05 22:27:23    -1        -3        -1        86   \n",
       "\n",
       "            intervals  \n",
       "0 2021-03-05 21:30:00  \n",
       "1 2021-03-05 21:45:00  \n",
       "2 2021-03-05 22:00:00  \n",
       "3 2021-03-05 22:15:00  \n",
       "4 2021-03-05 22:30:00  "
      ]
     },
     "execution_count": 38,
     "metadata": {},
     "output_type": "execute_result"
    }
   ],
   "source": [
    "dfweather.head().sort_values('dt')"
   ]
  },
  {
   "cell_type": "code",
   "execution_count": 39,
   "id": "biblical-frost",
   "metadata": {
    "scrolled": true
   },
   "outputs": [
    {
     "data": {
      "text/html": [
       "<div>\n",
       "<style scoped>\n",
       "    .dataframe tbody tr th:only-of-type {\n",
       "        vertical-align: middle;\n",
       "    }\n",
       "\n",
       "    .dataframe tbody tr th {\n",
       "        vertical-align: top;\n",
       "    }\n",
       "\n",
       "    .dataframe thead th {\n",
       "        text-align: right;\n",
       "    }\n",
       "</style>\n",
       "<table border=\"1\" class=\"dataframe\">\n",
       "  <thead>\n",
       "    <tr style=\"text-align: right;\">\n",
       "      <th></th>\n",
       "      <th>StationNumber</th>\n",
       "      <th>last_update</th>\n",
       "      <th>available_bikes_stands</th>\n",
       "      <th>available_bikes</th>\n",
       "      <th>intervals</th>\n",
       "    </tr>\n",
       "  </thead>\n",
       "  <tbody>\n",
       "    <tr>\n",
       "      <th>0</th>\n",
       "      <td>2</td>\n",
       "      <td>2021-02-25 20:06:43</td>\n",
       "      <td>9</td>\n",
       "      <td>11</td>\n",
       "      <td>2021-02-25 20:00:00</td>\n",
       "    </tr>\n",
       "    <tr>\n",
       "      <th>1</th>\n",
       "      <td>2</td>\n",
       "      <td>2021-02-25 20:16:51</td>\n",
       "      <td>9</td>\n",
       "      <td>11</td>\n",
       "      <td>2021-02-25 20:15:00</td>\n",
       "    </tr>\n",
       "    <tr>\n",
       "      <th>2</th>\n",
       "      <td>2</td>\n",
       "      <td>2021-02-25 20:26:59</td>\n",
       "      <td>9</td>\n",
       "      <td>11</td>\n",
       "      <td>2021-02-25 20:30:00</td>\n",
       "    </tr>\n",
       "    <tr>\n",
       "      <th>3</th>\n",
       "      <td>2</td>\n",
       "      <td>2021-02-25 20:37:07</td>\n",
       "      <td>9</td>\n",
       "      <td>11</td>\n",
       "      <td>2021-02-25 20:30:00</td>\n",
       "    </tr>\n",
       "    <tr>\n",
       "      <th>4</th>\n",
       "      <td>2</td>\n",
       "      <td>2021-02-25 20:47:17</td>\n",
       "      <td>9</td>\n",
       "      <td>11</td>\n",
       "      <td>2021-02-25 20:45:00</td>\n",
       "    </tr>\n",
       "  </tbody>\n",
       "</table>\n",
       "</div>"
      ],
      "text/plain": [
       "   StationNumber         last_update  available_bikes_stands  available_bikes  \\\n",
       "0              2 2021-02-25 20:06:43                       9               11   \n",
       "1              2 2021-02-25 20:16:51                       9               11   \n",
       "2              2 2021-02-25 20:26:59                       9               11   \n",
       "3              2 2021-02-25 20:37:07                       9               11   \n",
       "4              2 2021-02-25 20:47:17                       9               11   \n",
       "\n",
       "            intervals  \n",
       "0 2021-02-25 20:00:00  \n",
       "1 2021-02-25 20:15:00  \n",
       "2 2021-02-25 20:30:00  \n",
       "3 2021-02-25 20:30:00  \n",
       "4 2021-02-25 20:45:00  "
      ]
     },
     "execution_count": 39,
     "metadata": {},
     "output_type": "execute_result"
    }
   ],
   "source": [
    "dfavailability.head().sort_values('last_update')"
   ]
  },
  {
   "cell_type": "markdown",
   "id": "stuck-thing",
   "metadata": {},
   "source": [
    "#### Drop Initial Datetime columns as New Intervals Feature will be used to combine the Tables"
   ]
  },
  {
   "cell_type": "code",
   "execution_count": 40,
   "id": "corporate-collect",
   "metadata": {},
   "outputs": [],
   "source": [
    "mergeweather= dfweather.drop(['dt'], axis=1)"
   ]
  },
  {
   "cell_type": "code",
   "execution_count": 41,
   "id": "seven-check",
   "metadata": {},
   "outputs": [],
   "source": [
    "mergeavail=dfavailability.drop(['last_update'], axis=1)"
   ]
  },
  {
   "cell_type": "markdown",
   "id": "regional-prisoner",
   "metadata": {},
   "source": [
    "#### Sort the Intervals Features before merge"
   ]
  },
  {
   "cell_type": "code",
   "execution_count": 42,
   "id": "attempted-james",
   "metadata": {},
   "outputs": [
    {
     "data": {
      "text/plain": [
       "description          category\n",
       "temp                    int64\n",
       "temp_min                int64\n",
       "temp_max                int64\n",
       "humidity                int64\n",
       "intervals      datetime64[ns]\n",
       "dtype: object"
      ]
     },
     "execution_count": 42,
     "metadata": {},
     "output_type": "execute_result"
    }
   ],
   "source": [
    "mergeavail.dtypes\n",
    "mergeweather.dtypes"
   ]
  },
  {
   "cell_type": "code",
   "execution_count": 43,
   "id": "incorporate-encyclopedia",
   "metadata": {},
   "outputs": [
    {
     "data": {
      "text/plain": [
       "description          category\n",
       "temp                    int64\n",
       "temp_min                int64\n",
       "temp_max                int64\n",
       "humidity                int64\n",
       "intervals      datetime64[ns]\n",
       "dtype: object"
      ]
     },
     "execution_count": 43,
     "metadata": {},
     "output_type": "execute_result"
    }
   ],
   "source": [
    "mergeavail.dtypes\n",
    "mergeweather.dtypes"
   ]
  },
  {
   "cell_type": "code",
   "execution_count": 44,
   "id": "infinite-output",
   "metadata": {
    "scrolled": true
   },
   "outputs": [
    {
     "data": {
      "text/plain": [
       "StationNumber             0\n",
       "available_bikes_stands    0\n",
       "available_bikes           0\n",
       "intervals                 0\n",
       "dtype: int64"
      ]
     },
     "execution_count": 44,
     "metadata": {},
     "output_type": "execute_result"
    }
   ],
   "source": [
    "mergeavail=mergeavail.sort_values('intervals')\n",
    "mergeavail.isnull().sum()"
   ]
  },
  {
   "cell_type": "code",
   "execution_count": 45,
   "id": "together-encounter",
   "metadata": {
    "scrolled": true
   },
   "outputs": [
    {
     "data": {
      "text/plain": [
       "description    0\n",
       "temp           0\n",
       "temp_min       0\n",
       "temp_max       0\n",
       "humidity       0\n",
       "intervals      0\n",
       "dtype: int64"
      ]
     },
     "execution_count": 45,
     "metadata": {},
     "output_type": "execute_result"
    }
   ],
   "source": [
    "mergeweather=mergeweather.sort_values('intervals')\n",
    "mergeweather.isnull().sum()"
   ]
  },
  {
   "cell_type": "code",
   "execution_count": 46,
   "id": "micro-division",
   "metadata": {},
   "outputs": [],
   "source": [
    "BothMerge=pd.merge( mergeavail, mergeweather,how='inner', on='intervals')\n",
    "# FinalMerge=pd.merge_asof(mergeweather, mergeavail, on='intervals')\n",
    "# FinalMerge = mergeavail.merge(mergeweather, on='intervals')"
   ]
  },
  {
   "cell_type": "code",
   "execution_count": 47,
   "id": "traditional-portfolio",
   "metadata": {
    "scrolled": true
   },
   "outputs": [
    {
     "data": {
      "text/plain": [
       "StationNumber                      int64\n",
       "available_bikes_stands             int64\n",
       "available_bikes                    int64\n",
       "intervals                 datetime64[ns]\n",
       "description                     category\n",
       "temp                               int64\n",
       "temp_min                           int64\n",
       "temp_max                           int64\n",
       "humidity                           int64\n",
       "dtype: object"
      ]
     },
     "execution_count": 47,
     "metadata": {},
     "output_type": "execute_result"
    }
   ],
   "source": [
    "BothMerge.dtypes"
   ]
  },
  {
   "cell_type": "code",
   "execution_count": 48,
   "id": "wicked-characterization",
   "metadata": {},
   "outputs": [
    {
     "data": {
      "text/plain": [
       "StationNumber             0.0\n",
       "available_bikes_stands    0.0\n",
       "available_bikes           0.0\n",
       "intervals                 0.0\n",
       "description               0.0\n",
       "temp                      0.0\n",
       "temp_min                  0.0\n",
       "temp_max                  0.0\n",
       "humidity                  0.0\n",
       "dtype: float64"
      ]
     },
     "execution_count": 48,
     "metadata": {},
     "output_type": "execute_result"
    }
   ],
   "source": [
    "BothMerge.isnull().sum().sort_values(ascending=False)/len(BothMerge)*100"
   ]
  },
  {
   "cell_type": "code",
   "execution_count": 49,
   "id": "contrary-burlington",
   "metadata": {},
   "outputs": [
    {
     "name": "stdout",
     "output_type": "stream",
     "text": [
      "Number of duplicate (excluding first) rows in the table is:  160790\n",
      "Number of duplicate rows (including first) in the table is: 319124\n"
     ]
    }
   ],
   "source": [
    "#Print the number of duplicates, without the original rows that were duplicated\n",
    "print('Number of duplicate (excluding first) rows in the table is: ', BothMerge.duplicated().sum())\n",
    "\n",
    "# Check for duplicate rows. \n",
    "# Use \"keep=False\" to mark all duplicates as true, including the original rows that were duplicated.\n",
    "print('Number of duplicate rows (including first) in the table is:', BothMerge[BothMerge.duplicated(keep=False)].shape[0])"
   ]
  },
  {
   "cell_type": "code",
   "execution_count": 50,
   "id": "negative-nutrition",
   "metadata": {},
   "outputs": [],
   "source": [
    "FinalMerge=BothMerge[~BothMerge.duplicated()]"
   ]
  },
  {
   "cell_type": "code",
   "execution_count": 51,
   "id": "meaning-contamination",
   "metadata": {},
   "outputs": [
    {
     "data": {
      "text/plain": [
       "(449636, 9)"
      ]
     },
     "execution_count": 51,
     "metadata": {},
     "output_type": "execute_result"
    }
   ],
   "source": [
    "FinalMerge.shape"
   ]
  },
  {
   "cell_type": "markdown",
   "id": "liable-tuning",
   "metadata": {},
   "source": [
    "#### Create a Day Feature from the new merged table so that it is used for the model"
   ]
  },
  {
   "cell_type": "code",
   "execution_count": 52,
   "id": "mysterious-french",
   "metadata": {},
   "outputs": [],
   "source": [
    "FinalMerge['Day']=FinalMerge['intervals'].dt.day_name()"
   ]
  },
  {
   "cell_type": "code",
   "execution_count": 53,
   "id": "labeled-ultimate",
   "metadata": {},
   "outputs": [],
   "source": [
    "FinalMerge['Hour']=FinalMerge['intervals'].dt.hour"
   ]
  },
  {
   "cell_type": "code",
   "execution_count": 54,
   "id": "conventional-record",
   "metadata": {},
   "outputs": [
    {
     "data": {
      "text/html": [
       "<div>\n",
       "<style scoped>\n",
       "    .dataframe tbody tr th:only-of-type {\n",
       "        vertical-align: middle;\n",
       "    }\n",
       "\n",
       "    .dataframe tbody tr th {\n",
       "        vertical-align: top;\n",
       "    }\n",
       "\n",
       "    .dataframe thead th {\n",
       "        text-align: right;\n",
       "    }\n",
       "</style>\n",
       "<table border=\"1\" class=\"dataframe\">\n",
       "  <thead>\n",
       "    <tr style=\"text-align: right;\">\n",
       "      <th></th>\n",
       "      <th>StationNumber</th>\n",
       "      <th>available_bikes_stands</th>\n",
       "      <th>available_bikes</th>\n",
       "      <th>intervals</th>\n",
       "      <th>description</th>\n",
       "      <th>temp</th>\n",
       "      <th>temp_min</th>\n",
       "      <th>temp_max</th>\n",
       "      <th>humidity</th>\n",
       "      <th>Day</th>\n",
       "      <th>Hour</th>\n",
       "    </tr>\n",
       "  </thead>\n",
       "  <tbody>\n",
       "    <tr>\n",
       "      <th>0</th>\n",
       "      <td>111</td>\n",
       "      <td>20</td>\n",
       "      <td>20</td>\n",
       "      <td>2021-03-02 15:30:00</td>\n",
       "      <td>mist</td>\n",
       "      <td>7</td>\n",
       "      <td>6</td>\n",
       "      <td>7</td>\n",
       "      <td>81</td>\n",
       "      <td>Tuesday</td>\n",
       "      <td>15</td>\n",
       "    </tr>\n",
       "    <tr>\n",
       "      <th>1</th>\n",
       "      <td>106</td>\n",
       "      <td>20</td>\n",
       "      <td>20</td>\n",
       "      <td>2021-03-02 15:30:00</td>\n",
       "      <td>mist</td>\n",
       "      <td>7</td>\n",
       "      <td>6</td>\n",
       "      <td>7</td>\n",
       "      <td>81</td>\n",
       "      <td>Tuesday</td>\n",
       "      <td>15</td>\n",
       "    </tr>\n",
       "    <tr>\n",
       "      <th>2</th>\n",
       "      <td>28</td>\n",
       "      <td>9</td>\n",
       "      <td>21</td>\n",
       "      <td>2021-03-02 15:30:00</td>\n",
       "      <td>mist</td>\n",
       "      <td>7</td>\n",
       "      <td>6</td>\n",
       "      <td>7</td>\n",
       "      <td>81</td>\n",
       "      <td>Tuesday</td>\n",
       "      <td>15</td>\n",
       "    </tr>\n",
       "    <tr>\n",
       "      <th>4</th>\n",
       "      <td>100</td>\n",
       "      <td>14</td>\n",
       "      <td>11</td>\n",
       "      <td>2021-03-02 15:30:00</td>\n",
       "      <td>mist</td>\n",
       "      <td>7</td>\n",
       "      <td>6</td>\n",
       "      <td>7</td>\n",
       "      <td>81</td>\n",
       "      <td>Tuesday</td>\n",
       "      <td>15</td>\n",
       "    </tr>\n",
       "    <tr>\n",
       "      <th>5</th>\n",
       "      <td>86</td>\n",
       "      <td>37</td>\n",
       "      <td>1</td>\n",
       "      <td>2021-03-02 15:30:00</td>\n",
       "      <td>mist</td>\n",
       "      <td>7</td>\n",
       "      <td>6</td>\n",
       "      <td>7</td>\n",
       "      <td>81</td>\n",
       "      <td>Tuesday</td>\n",
       "      <td>15</td>\n",
       "    </tr>\n",
       "  </tbody>\n",
       "</table>\n",
       "</div>"
      ],
      "text/plain": [
       "   StationNumber  available_bikes_stands  available_bikes           intervals  \\\n",
       "0            111                      20               20 2021-03-02 15:30:00   \n",
       "1            106                      20               20 2021-03-02 15:30:00   \n",
       "2             28                       9               21 2021-03-02 15:30:00   \n",
       "4            100                      14               11 2021-03-02 15:30:00   \n",
       "5             86                      37                1 2021-03-02 15:30:00   \n",
       "\n",
       "  description  temp  temp_min  temp_max  humidity      Day  Hour  \n",
       "0        mist     7         6         7        81  Tuesday    15  \n",
       "1        mist     7         6         7        81  Tuesday    15  \n",
       "2        mist     7         6         7        81  Tuesday    15  \n",
       "4        mist     7         6         7        81  Tuesday    15  \n",
       "5        mist     7         6         7        81  Tuesday    15  "
      ]
     },
     "execution_count": 54,
     "metadata": {},
     "output_type": "execute_result"
    }
   ],
   "source": [
    "FinalMerge.head()"
   ]
  },
  {
   "cell_type": "code",
   "execution_count": 55,
   "id": "medium-cooper",
   "metadata": {
    "scrolled": false
   },
   "outputs": [
    {
     "data": {
      "text/plain": [
       "StationNumber              110\n",
       "available_bikes_stands      41\n",
       "available_bikes             41\n",
       "intervals                 3428\n",
       "description                 11\n",
       "temp                        19\n",
       "temp_min                    20\n",
       "temp_max                    21\n",
       "humidity                    38\n",
       "Day                          7\n",
       "Hour                        24\n",
       "dtype: int64"
      ]
     },
     "execution_count": 55,
     "metadata": {},
     "output_type": "execute_result"
    }
   ],
   "source": [
    "FinalMerge.nunique()"
   ]
  },
  {
   "cell_type": "markdown",
   "id": "olive-equipment",
   "metadata": {},
   "source": [
    "#### 2 models will be created, one for Available Bikes and one for available bike stands - create 2 copies of merged df"
   ]
  },
  {
   "cell_type": "code",
   "execution_count": 56,
   "id": "concerned-original",
   "metadata": {},
   "outputs": [],
   "source": [
    "availableBikes=FinalMerge.drop(['intervals'], axis=1)\n",
    "availableStands=FinalMerge.drop(['intervals'], axis=1)"
   ]
  },
  {
   "cell_type": "code",
   "execution_count": 57,
   "id": "critical-provision",
   "metadata": {},
   "outputs": [],
   "source": [
    "availableBikes.to_csv('availbikes2.csv', index=False)\n",
    "availableStands.to_csv('availstands2.csv', index=False)"
   ]
  },
  {
   "cell_type": "code",
   "execution_count": null,
   "id": "coordinated-clinton",
   "metadata": {},
   "outputs": [],
   "source": []
  }
 ],
 "metadata": {
  "kernelspec": {
   "display_name": "Python 3",
   "language": "python",
   "name": "python3"
  },
  "language_info": {
   "codemirror_mode": {
    "name": "ipython",
    "version": 3
   },
   "file_extension": ".py",
   "mimetype": "text/x-python",
   "name": "python",
   "nbconvert_exporter": "python",
   "pygments_lexer": "ipython3",
   "version": "3.9.1"
  }
 },
 "nbformat": 4,
 "nbformat_minor": 5
}
